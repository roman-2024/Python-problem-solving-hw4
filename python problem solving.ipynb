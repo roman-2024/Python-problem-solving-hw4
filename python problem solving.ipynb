{
 "cells": [
  {
   "cell_type": "markdown",
   "id": "939cb913",
   "metadata": {},
   "source": [
    "# 1.Leap year Checker"
   ]
  },
  {
   "cell_type": "code",
   "execution_count": 1,
   "id": "d85641a5",
   "metadata": {},
   "outputs": [
    {
     "name": "stdout",
     "output_type": "stream",
     "text": [
      "Enter year to check: 2024\n",
      "The year is a leap year\n"
     ]
    }
   ],
   "source": [
    "year=int(input(\"Enter year to check: \"))\n",
    "if year%4==0 and year%100!=0 or year%400==0:\n",
    "    print(\"The year is a leap year\")\n",
    "else:\n",
    "    print(\"Not a leap year\")"
   ]
  },
  {
   "cell_type": "markdown",
   "id": "ee24f25d",
   "metadata": {},
   "source": [
    "# 2. Grades Classification:"
   ]
  },
  {
   "cell_type": "code",
   "execution_count": 2,
   "id": "023aebf5",
   "metadata": {},
   "outputs": [
    {
     "name": "stdout",
     "output_type": "stream",
     "text": [
      "Enter number: 44\n",
      "FAIL\n"
     ]
    }
   ],
   "source": [
    "marks=int(input(\"Enter number: \"))\n",
    "if marks>=90:\n",
    "    print(\"A+\")\n",
    "elif(marks>=80):\n",
    "    print(\"A\")\n",
    "elif (marks>=70):\n",
    "    print(\"B\")\n",
    "elif (marks>=60):\n",
    "    print(\"C\")\n",
    "else:\n",
    "    print(\"FAIL\")"
   ]
  },
  {
   "cell_type": "markdown",
   "id": "393f16a5",
   "metadata": {},
   "source": [
    "# 3. Vowel or Consonant"
   ]
  },
  {
   "cell_type": "code",
   "execution_count": 3,
   "id": "9a274338",
   "metadata": {},
   "outputs": [
    {
     "name": "stdout",
     "output_type": "stream",
     "text": [
      "Enter a character: y\n",
      "consonent\n"
     ]
    }
   ],
   "source": [
    "ch=input(\"Enter a character: \")\n",
    "if ch==\"a\" or ch==\"e\" or ch==\"i\" or ch==\"o\" or ch==\"u\" or ch==\"A\" or ch==\"E\" or ch==\"I\" or ch==\"O\" or ch==\"U\":\n",
    "    print(\"vowel\")\n",
    "else:\n",
    "    print(\"consonent\")"
   ]
  },
  {
   "cell_type": "markdown",
   "id": "bbd1a8d6",
   "metadata": {},
   "source": [
    "# 4. Triangle Type Checker:"
   ]
  },
  {
   "cell_type": "code",
   "execution_count": 4,
   "id": "d3161897",
   "metadata": {},
   "outputs": [
    {
     "name": "stdout",
     "output_type": "stream",
     "text": [
      "enter 1st number 12\n",
      "enter 2nd number 13\n",
      "enter 3rd number 13\n",
      "it is isosceles triangle \n"
     ]
    }
   ],
   "source": [
    "a=int(input(\"enter 1st number \"))\n",
    "b=int(input(\"enter 2nd number \"))\n",
    "c=int(input(\"enter 3rd number \"))\n",
    "if a==b==c:\n",
    "    print(\"it is equilateral triangle\")\n",
    "elif a==b or  b==c or a==c:\n",
    "    print(\"it is isosceles triangle \")\n",
    "else:\n",
    "    print(\"scalene triangle\")"
   ]
  },
  {
   "cell_type": "markdown",
   "id": "35a7a789",
   "metadata": {},
   "source": [
    "# 5. Quadratic Equation Solver:"
   ]
  },
  {
   "cell_type": "code",
   "execution_count": 7,
   "id": "3d14131e",
   "metadata": {},
   "outputs": [
    {
     "name": "stdout",
     "output_type": "stream",
     "text": [
      "enter number(a!=0):1\n",
      "enter number: 2\n",
      "enter number: 4\n",
      "the roots are (-1-1.7320508075688772j) and (-1+1.7320508075688772j)\n"
     ]
    }
   ],
   "source": [
    "import cmath\n",
    "a=int(input(\"enter number(a!=0):\"))\n",
    "b=int(input(\"enter number: \"))\n",
    "c=int(input(\"enter number: \"))\n",
    "d=b**2-4*a*c\n",
    "root1=(-b-cmath.sqrt(d))/(2*a)\n",
    "root2=(-b+cmath.sqrt(d))/(2*a)\n",
    "print(\"the roots are\", root1, \"and\", root2)"
   ]
  },
  {
   "cell_type": "markdown",
   "id": "377ab266",
   "metadata": {},
   "source": [
    "# Problem 1: Print Even Numbers-"
   ]
  },
  {
   "cell_type": "code",
   "execution_count": null,
   "id": "5ba49fe3",
   "metadata": {},
   "outputs": [],
   "source": [
    "for x in range(0,10):\n",
    "    if x%2==0:\n",
    "        print(x)\n",
    "        "
   ]
  },
  {
   "cell_type": "markdown",
   "id": "eefdaa22",
   "metadata": {},
   "source": [
    "# Problem 2: Calculate Average-"
   ]
  },
  {
   "cell_type": "code",
   "execution_count": null,
   "id": "bd0b8ea9",
   "metadata": {},
   "outputs": [],
   "source": [
    "list1=[1,2,3,4,5]\n",
    "sum_elements=sum(list1)\n",
    "len_list1=len(list1)\n",
    "avg=sum_elements/len_list1\n",
    "print(avg)"
   ]
  },
  {
   "cell_type": "markdown",
   "id": "f4ddfad7",
   "metadata": {},
   "source": [
    "# Problem 3: Find Prime Numbers"
   ]
  },
  {
   "cell_type": "code",
   "execution_count": null,
   "id": "a5b5b2c0",
   "metadata": {},
   "outputs": [],
   "source": [
    "a=int(input(\"enter number: \"))\n",
    "i=2\n",
    "n=0\n",
    "while i<a:\n",
    "    if a%i==0:\n",
    "        n=1\n",
    "        break\n",
    "    i=i+1\n",
    "if n==0:\n",
    "    print(a,\"is prime number\")\n",
    "elif n==1:\n",
    "    print(a, \"is not prime number\")\n",
    "    "
   ]
  },
  {
   "cell_type": "markdown",
   "id": "88382f49",
   "metadata": {},
   "source": [
    "# Problem 4: Guess the Number Game"
   ]
  },
  {
   "cell_type": "code",
   "execution_count": null,
   "id": "35f20594",
   "metadata": {},
   "outputs": [],
   "source": [
    "import random\n",
    "computer=random.randrange(1,51)\n",
    "usernumber=int(input(\"enter the number:\"))\n",
    "if usernumber>computer:\n",
    "    print(\"your guess number is too high\")\n",
    "elif computer>usernumber:\n",
    "    print(\"your guess number is too low\")\n",
    "else:\n",
    "    print(\"your guess number is equal\")\n"
   ]
  },
  {
   "cell_type": "markdown",
   "id": "b433af06",
   "metadata": {},
   "source": [
    "# Problem 5: Reverse a Number"
   ]
  },
  {
   "cell_type": "code",
   "execution_count": null,
   "id": "82c9dd4b",
   "metadata": {},
   "outputs": [],
   "source": [
    "num=input(\"enter number:\")\n",
    "print(num[-1::-1])"
   ]
  },
  {
   "cell_type": "code",
   "execution_count": null,
   "id": "6a3391a4",
   "metadata": {},
   "outputs": [],
   "source": []
  }
 ],
 "metadata": {
  "kernelspec": {
   "display_name": "Python 3 (ipykernel)",
   "language": "python",
   "name": "python3"
  },
  "language_info": {
   "codemirror_mode": {
    "name": "ipython",
    "version": 3
   },
   "file_extension": ".py",
   "mimetype": "text/x-python",
   "name": "python",
   "nbconvert_exporter": "python",
   "pygments_lexer": "ipython3",
   "version": "3.11.5"
  }
 },
 "nbformat": 4,
 "nbformat_minor": 5
}
